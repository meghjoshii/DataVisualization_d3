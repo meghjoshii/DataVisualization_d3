{
 "cells": [
  {
   "cell_type": "code",
   "execution_count": 5,
   "id": "1d042046",
   "metadata": {},
   "outputs": [],
   "source": [
    "import csv\n",
    "import os\n",
    "import pandas\n",
    "from ast import literal_eval\n",
    "from operator import itemgetter"
   ]
  },
  {
   "cell_type": "code",
   "execution_count": 6,
   "id": "4002ad8e",
   "metadata": {},
   "outputs": [],
   "source": [
    "df = open(\"data_103079215141.txt\", \"r\")\n",
    "text = df.readlines()\n",
    "df.close()\n",
    "nodes_list = literal_eval(text[0])"
   ]
  },
  {
   "cell_type": "code",
   "execution_count": 8,
   "id": "9a69670c",
   "metadata": {},
   "outputs": [],
   "source": [
    "nodes=[]\n",
    "source =[]\n",
    "target=[]\n",
    "edges=[]"
   ]
  },
  {
   "cell_type": "markdown",
   "id": "d33a7e89",
   "metadata": {},
   "source": [
    "## Nodes"
   ]
  },
  {
   "cell_type": "code",
   "execution_count": 15,
   "id": "916ec914",
   "metadata": {},
   "outputs": [],
   "source": [
    "for node in nodes_list:\n",
    "    s,t = node[0],node[1]\n",
    "    e = (node[0],node[1])\n",
    "    if e not in edges:\n",
    "        edges.append(e)\n",
    "    source.append(node[0])\n",
    "    target.append(node[1])\n",
    "    if node[0] not in nodes:\n",
    "        nodes.append(node[0])\n",
    "    if node[1] not in nodes:\n",
    "        nodes.append(node[1])"
   ]
  },
  {
   "cell_type": "code",
   "execution_count": 16,
   "id": "941a232e",
   "metadata": {},
   "outputs": [
    {
     "name": "stdout",
     "output_type": "stream",
     "text": [
      "['18233', '18234', '18235', '18236', '18237', '18238', '18239', '18240', '18241', '18242', '18243', '18244', '18245', '18246', '18247', '18248', '18249', '18250', '18251', '18252', '18253', '18254', '18255', '18256', '18257']\n"
     ]
    }
   ],
   "source": [
    "print(nodes)"
   ]
  },
  {
   "cell_type": "code",
   "execution_count": 17,
   "id": "0f36cc46",
   "metadata": {},
   "outputs": [],
   "source": [
    "node_label={}\n",
    "for i,j in enumerate(sorted(nodes)):\n",
    "    node_label[j]=i\n",
    "nodes_preprocessed = sorted(nodes)"
   ]
  },
  {
   "cell_type": "code",
   "execution_count": 18,
   "id": "21961bf1",
   "metadata": {},
   "outputs": [],
   "source": [
    "dataframe = pandas.DataFrame(data={\"node\": nodes_preprocessed})\n",
    "dataframe.to_csv(\"./nodes.csv\", sep=',',index=False)"
   ]
  },
  {
   "cell_type": "markdown",
   "id": "876fa5eb",
   "metadata": {},
   "source": [
    "## Edges"
   ]
  },
  {
   "cell_type": "code",
   "execution_count": 19,
   "id": "fb0b6687",
   "metadata": {},
   "outputs": [],
   "source": [
    "edges_preprocessed=[]\n",
    "for i,j in zip(source,target):\n",
    "    if node_label[i]>node_label[j]:\n",
    "        edges_preprocessed.append((node_label[j],node_label[i]))\n",
    "    else:\n",
    "        edges_preprocessed.append((node_label[i], node_label[j]))\n",
    "edges_preprocessed = sorted(edges_preprocessed, key=itemgetter(0, 1))\n"
   ]
  },
  {
   "cell_type": "code",
   "execution_count": 20,
   "id": "2e2206ab",
   "metadata": {},
   "outputs": [],
   "source": [
    "dataframe2 = pandas.DataFrame(data=edges_preprocessed,columns={\"source\",\"target\"})\n",
    "dataframe2.to_csv(\"./edges.csv\", sep=',',index=False)"
   ]
  },
  {
   "cell_type": "code",
   "execution_count": null,
   "id": "bcdca19b",
   "metadata": {},
   "outputs": [],
   "source": []
  }
 ],
 "metadata": {
  "kernelspec": {
   "display_name": "Python 3 (ipykernel)",
   "language": "python",
   "name": "python3"
  },
  "language_info": {
   "codemirror_mode": {
    "name": "ipython",
    "version": 3
   },
   "file_extension": ".py",
   "mimetype": "text/x-python",
   "name": "python",
   "nbconvert_exporter": "python",
   "pygments_lexer": "ipython3",
   "version": "3.8.12"
  }
 },
 "nbformat": 4,
 "nbformat_minor": 5
}
